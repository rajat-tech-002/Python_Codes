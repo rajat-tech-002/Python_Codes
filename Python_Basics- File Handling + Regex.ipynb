{
 "cells": [
  {
   "cell_type": "markdown",
   "metadata": {},
   "source": [
    "# File Reading and Writing"
   ]
  },
  {
   "cell_type": "code",
   "execution_count": 18,
   "metadata": {},
   "outputs": [],
   "source": [
    "import pandas as pd"
   ]
  },
  {
   "cell_type": "code",
   "execution_count": 74,
   "metadata": {},
   "outputs": [],
   "source": [
    "file=open('contacts.txt','r')"
   ]
  },
  {
   "cell_type": "code",
   "execution_count": 75,
   "metadata": {},
   "outputs": [
    {
     "data": {
      "text/plain": [
       "'Amit,Shah,+9800123456\\nPramit,Singh,+9801345678\\nShalini,Shah,+9801341876'"
      ]
     },
     "execution_count": 75,
     "metadata": {},
     "output_type": "execute_result"
    }
   ],
   "source": [
    "str=file.read() \n",
    "str"
   ]
  },
  {
   "cell_type": "code",
   "execution_count": 76,
   "metadata": {},
   "outputs": [
    {
     "data": {
      "text/plain": [
       "['Amit,Shah,+9800123456',\n",
       " 'Pramit,Singh,+9801345678',\n",
       " 'Shalini,Shah,+9801341876']"
      ]
     },
     "execution_count": 76,
     "metadata": {},
     "output_type": "execute_result"
    }
   ],
   "source": [
    "temp=str.split('\\n')\n",
    "temp"
   ]
  },
  {
   "cell_type": "code",
   "execution_count": 77,
   "metadata": {},
   "outputs": [
    {
     "data": {
      "text/html": [
       "<div>\n",
       "<style scoped>\n",
       "    .dataframe tbody tr th:only-of-type {\n",
       "        vertical-align: middle;\n",
       "    }\n",
       "\n",
       "    .dataframe tbody tr th {\n",
       "        vertical-align: top;\n",
       "    }\n",
       "\n",
       "    .dataframe thead th {\n",
       "        text-align: right;\n",
       "    }\n",
       "</style>\n",
       "<table border=\"1\" class=\"dataframe\">\n",
       "  <thead>\n",
       "    <tr style=\"text-align: right;\">\n",
       "      <th></th>\n",
       "      <th>first_name</th>\n",
       "      <th>second_name</th>\n",
       "      <th>number</th>\n",
       "    </tr>\n",
       "  </thead>\n",
       "  <tbody>\n",
       "  </tbody>\n",
       "</table>\n",
       "</div>"
      ],
      "text/plain": [
       "Empty DataFrame\n",
       "Columns: [first_name, second_name, number]\n",
       "Index: []"
      ]
     },
     "execution_count": 77,
     "metadata": {},
     "output_type": "execute_result"
    }
   ],
   "source": [
    "df=pd.DataFrame(columns=['first_name','second_name','number'])\n",
    "df"
   ]
  },
  {
   "cell_type": "code",
   "execution_count": 78,
   "metadata": {},
   "outputs": [
    {
     "data": {
      "text/plain": [
       "[['Amit', 'Shah', '+9800123456'],\n",
       " ['Pramit', 'Singh', '+9801345678'],\n",
       " ['Shalini', 'Shah', '+9801341876']]"
      ]
     },
     "execution_count": 78,
     "metadata": {},
     "output_type": "execute_result"
    }
   ],
   "source": [
    "temp_row=[]\n",
    "for row in temp:\n",
    "    temp_row.append(row.split(','))\n",
    "temp_row    "
   ]
  },
  {
   "cell_type": "code",
   "execution_count": 79,
   "metadata": {},
   "outputs": [
    {
     "data": {
      "text/html": [
       "<div>\n",
       "<style scoped>\n",
       "    .dataframe tbody tr th:only-of-type {\n",
       "        vertical-align: middle;\n",
       "    }\n",
       "\n",
       "    .dataframe tbody tr th {\n",
       "        vertical-align: top;\n",
       "    }\n",
       "\n",
       "    .dataframe thead th {\n",
       "        text-align: right;\n",
       "    }\n",
       "</style>\n",
       "<table border=\"1\" class=\"dataframe\">\n",
       "  <thead>\n",
       "    <tr style=\"text-align: right;\">\n",
       "      <th></th>\n",
       "      <th>first_name</th>\n",
       "      <th>second_name</th>\n",
       "      <th>number</th>\n",
       "    </tr>\n",
       "  </thead>\n",
       "  <tbody>\n",
       "    <tr>\n",
       "      <th>0</th>\n",
       "      <td>Amit</td>\n",
       "      <td>Shah</td>\n",
       "      <td>+9800123456</td>\n",
       "    </tr>\n",
       "    <tr>\n",
       "      <th>1</th>\n",
       "      <td>Pramit</td>\n",
       "      <td>Singh</td>\n",
       "      <td>+9801345678</td>\n",
       "    </tr>\n",
       "    <tr>\n",
       "      <th>2</th>\n",
       "      <td>Shalini</td>\n",
       "      <td>Shah</td>\n",
       "      <td>+9801341876</td>\n",
       "    </tr>\n",
       "  </tbody>\n",
       "</table>\n",
       "</div>"
      ],
      "text/plain": [
       "  first_name second_name       number\n",
       "0       Amit        Shah  +9800123456\n",
       "1     Pramit       Singh  +9801345678\n",
       "2    Shalini        Shah  +9801341876"
      ]
     },
     "execution_count": 79,
     "metadata": {},
     "output_type": "execute_result"
    }
   ],
   "source": [
    "for row in temp_row:\n",
    "        df=df.append(pd.Series(row,index=df.columns),ignore_index=True) \n",
    "        \n",
    "df        "
   ]
  },
  {
   "cell_type": "markdown",
   "metadata": {},
   "source": [
    "# Pattern Matching using regex"
   ]
  },
  {
   "cell_type": "code",
   "execution_count": 85,
   "metadata": {},
   "outputs": [],
   "source": [
    "import re"
   ]
  },
  {
   "cell_type": "code",
   "execution_count": 96,
   "metadata": {},
   "outputs": [
    {
     "data": {
      "text/plain": [
       "<re.Match object; span=(13, 16), match='123'>"
      ]
     },
     "execution_count": 96,
     "metadata": {},
     "output_type": "execute_result"
    }
   ],
   "source": [
    "exp=re.compile(r'\\d\\d\\d')\n",
    "obj=exp.search('My Number is 123')\n",
    "obj"
   ]
  },
  {
   "cell_type": "code",
   "execution_count": 102,
   "metadata": {},
   "outputs": [
    {
     "data": {
      "text/plain": [
       "<re.Match object; span=(13, 24), match='123-456-789'>"
      ]
     },
     "execution_count": 102,
     "metadata": {},
     "output_type": "execute_result"
    }
   ],
   "source": [
    "exp=re.compile(r'\\d\\d\\d-\\d\\d\\d-\\d\\d\\d')\n",
    "obj=exp.search('My Number is 123-456-789 and 123-456')\n",
    "obj"
   ]
  },
  {
   "cell_type": "code",
   "execution_count": 107,
   "metadata": {},
   "outputs": [
    {
     "name": "stdout",
     "output_type": "stream",
     "text": [
      "Object: <re.Match object; span=(13, 24), match='123-456-789'>\n",
      "Object Group: 123-456-789\n"
     ]
    }
   ],
   "source": [
    "exp=re.compile(r'\\d{3}-\\d{3}-\\d{3}')\n",
    "obj=exp.search('My Number is 123-456-789 and 123-456')\n",
    "print('Object:',obj)\n",
    "print(\"Object Group:\",obj.group())"
   ]
  },
  {
   "cell_type": "markdown",
   "metadata": {},
   "source": [
    "## For Grouping Output, Use Brackets in regex"
   ]
  },
  {
   "cell_type": "code",
   "execution_count": 112,
   "metadata": {},
   "outputs": [
    {
     "name": "stdout",
     "output_type": "stream",
     "text": [
      "Object: <re.Match object; span=(13, 24), match='123-456-789'>\n",
      "Object Group: 123-456-789\n",
      "Object Group: 123\n",
      "Object Group: 456\n",
      "Object Group: 789\n",
      "Object Group: ('123', '456', '789')\n"
     ]
    }
   ],
   "source": [
    "exp=re.compile(r'(\\d{3})-(\\d{3})-(\\d{3})')\n",
    "obj=exp.search('My Number is 123-456-789 and 123-456')\n",
    "print('Object:',obj)\n",
    "print(\"Object Group:\",obj.group())\n",
    "print(\"Object Group:\",obj.group(1))\n",
    "print(\"Object Group:\",obj.group(2))\n",
    "print(\"Object Group:\",obj.group(3))\n",
    "print(\"Object Group:\",obj.groups())"
   ]
  },
  {
   "cell_type": "markdown",
   "metadata": {},
   "source": [
    "   ## For parenthesis matching"
   ]
  },
  {
   "cell_type": "code",
   "execution_count": 120,
   "metadata": {},
   "outputs": [
    {
     "name": "stdout",
     "output_type": "stream",
     "text": [
      "Object: <re.Match object; span=(13, 26), match='(123)-456-789'>\n",
      "Object Group: (123)-456-789\n",
      "Object Group: (123)\n",
      "Object Group: 456\n",
      "Object Group: 789\n"
     ]
    }
   ],
   "source": [
    "exp=re.compile(r'(\\(\\d\\d\\d\\))-(\\d{3})-(\\d{3})')\n",
    "obj=exp.search('My Number is (123)-456-789 and 123-456')\n",
    "print('Object:',obj)\n",
    "print(\"Object Group:\",obj.group())\n",
    "print(\"Object Group:\",obj.group(1))\n",
    "print(\"Object Group:\",obj.group(2))\n",
    "print(\"Object Group:\",obj.group(3))\n",
    "#(\\(\\d\\d\\d\\)) -> for (123) matching this"
   ]
  },
  {
   "cell_type": "markdown",
   "metadata": {},
   "source": [
    "## First Match returned -> Pipe- | symbol "
   ]
  },
  {
   "cell_type": "code",
   "execution_count": 121,
   "metadata": {},
   "outputs": [
    {
     "name": "stdout",
     "output_type": "stream",
     "text": [
      "Object: <re.Match object; span=(11, 16), match='Rajat'>\n"
     ]
    }
   ],
   "source": [
    "exp=re.compile(r'Rajat|Shivam')\n",
    "obj=exp.search('My name is Rajat while brother\\'s name is Shivam')\n",
    "print('Object:',obj)"
   ]
  },
  {
   "cell_type": "code",
   "execution_count": 122,
   "metadata": {},
   "outputs": [
    {
     "name": "stdout",
     "output_type": "stream",
     "text": [
      "Object: <re.Match object; span=(42, 48), match='Shivam'>\n"
     ]
    }
   ],
   "source": [
    "exp=re.compile(r'Rajat|Shivam')\n",
    "obj=exp.search('My name is Chirag while brother\\'s name is Shivam')\n",
    "print('Object:',obj)"
   ]
  },
  {
   "cell_type": "code",
   "execution_count": 123,
   "metadata": {},
   "outputs": [
    {
     "name": "stdout",
     "output_type": "stream",
     "text": [
      "Object: <re.Match object; span=(11, 17), match='Shivam'>\n"
     ]
    }
   ],
   "source": [
    "exp=re.compile(r'Rajat|Shivam')\n",
    "obj=exp.search('My name is Shivam while brother\\'s name is Rajat')\n",
    "print('Object:',obj)"
   ]
  },
  {
   "cell_type": "markdown",
   "metadata": {},
   "source": [
    "## Miscellaneous"
   ]
  },
  {
   "cell_type": "code",
   "execution_count": 128,
   "metadata": {},
   "outputs": [
    {
     "name": "stdout",
     "output_type": "stream",
     "text": [
      "Object: <re.Match object; span=(0, 6), match='HaHaHa'>\n",
      "Object: <re.Match object; span=(0, 8), match='HaHaHaHa'>\n",
      "Object: <re.Match object; span=(7, 16), match='HaaHaaHaa'>\n",
      "Object: <re.Match object; span=(3, 7), match='Haaa'>\n"
     ]
    }
   ],
   "source": [
    "exp1=re.compile(r'(Ha){3}') # = HaHaHa\n",
    "exp2=re.compile(r'(HaHa){2}') # = HaHaHaHa\n",
    "exp3=re.compile(r'(Haa){3}')  # = HaaHaaHaa\n",
    "exp4=re.compile(r'Ha{3}')     # = Haaa\n",
    "\n",
    "obj1=exp1.search('HaHaHaHaHa Yo')\n",
    "obj2=exp2.search('HaHaHaHaHa Yo')\n",
    "obj3=exp3.search('HaaHaaaHaaHaaHaa Yo')\n",
    "obj4=exp4.search('HaaHaaaHaHa Yo')\n",
    "\n",
    "print('Object:',obj1)\n",
    "print('Object:',obj2)\n",
    "print('Object:',obj3)\n",
    "print('Object:',obj4)"
   ]
  },
  {
   "cell_type": "markdown",
   "metadata": {},
   "source": [
    "## Using ? in regex"
   ]
  },
  {
   "cell_type": "code",
   "execution_count": 129,
   "metadata": {},
   "outputs": [
    {
     "name": "stdout",
     "output_type": "stream",
     "text": [
      "Object: <re.Match object; span=(0, 6), match='Batman'>\n"
     ]
    }
   ],
   "source": [
    "exp=re.compile(r'Bat(wo)?man')\n",
    "obj=exp.search('Batman is strongest member of justice league')\n",
    "print('Object:',obj)"
   ]
  },
  {
   "cell_type": "code",
   "execution_count": 130,
   "metadata": {},
   "outputs": [
    {
     "name": "stdout",
     "output_type": "stream",
     "text": [
      "Object: <re.Match object; span=(0, 8), match='Batwoman'>\n"
     ]
    }
   ],
   "source": [
    "exp=re.compile(r'Bat(wo)?man')\n",
    "obj=exp.search('Batwoman is strongest member of justice league')\n",
    "print('Object:',obj)"
   ]
  },
  {
   "cell_type": "code",
   "execution_count": 131,
   "metadata": {},
   "outputs": [
    {
     "name": "stdout",
     "output_type": "stream",
     "text": [
      "Object: None\n"
     ]
    }
   ],
   "source": [
    "exp=re.compile(r'Bat(wo)?man')\n",
    "obj=exp.search('Batwooman is strongest member of justice league')\n",
    "print('Object:',obj)"
   ]
  },
  {
   "cell_type": "code",
   "execution_count": 136,
   "metadata": {},
   "outputs": [
    {
     "name": "stdout",
     "output_type": "stream",
     "text": [
      "Object: <re.Match object; span=(0, 8), match='2.3woman'>\n"
     ]
    }
   ],
   "source": [
    "exp=re.compile(r'\\d(.)?\\d(wo)?man')\n",
    "obj=exp.search('2.3woman is strongest member of justice league')\n",
    "print('Object:',obj)"
   ]
  },
  {
   "cell_type": "markdown",
   "metadata": {},
   "source": [
    "## Matching Floating Point numbers - Using '+' ,'*', '?'"
   ]
  },
  {
   "cell_type": "code",
   "execution_count": 151,
   "metadata": {},
   "outputs": [
    {
     "data": {
      "text/plain": [
       "['-13.2', '14.2', '3']"
      ]
     },
     "execution_count": 151,
     "metadata": {},
     "output_type": "execute_result"
    }
   ],
   "source": [
    "re.findall(r'[-+]?\\d*\\.\\d+|\\d+','Current Level: -13.2 db or 14.2 or 3')"
   ]
  },
  {
   "cell_type": "markdown",
   "metadata": {},
   "source": [
    "## Mathing Complex Expressions"
   ]
  },
  {
   "cell_type": "code",
   "execution_count": 156,
   "metadata": {},
   "outputs": [
    {
     "data": {
      "text/plain": [
       "['He', 'he']"
      ]
     },
     "execution_count": 156,
     "metadata": {},
     "output_type": "execute_result"
    }
   ],
   "source": [
    "re.findall(r'[Hh]e','He and She work well')"
   ]
  },
  {
   "cell_type": "code",
   "execution_count": 162,
   "metadata": {},
   "outputs": [
    {
     "data": {
      "text/plain": [
       "['She', 'she']"
      ]
     },
     "execution_count": 162,
     "metadata": {},
     "output_type": "execute_result"
    }
   ],
   "source": [
    "re.findall(r'[Ss]he','He and She and she work well')"
   ]
  },
  {
   "cell_type": "code",
   "execution_count": 167,
   "metadata": {},
   "outputs": [
    {
     "data": {
      "text/plain": [
       "['She', 'he', 'she', 'workhe']"
      ]
     },
     "execution_count": 167,
     "metadata": {},
     "output_type": "execute_result"
    }
   ],
   "source": [
    "re.findall(r'[a-zA-Z]*he','He and She he and she workhe well') # Ending with he and he included"
   ]
  },
  {
   "cell_type": "code",
   "execution_count": 170,
   "metadata": {},
   "outputs": [
    {
     "data": {
      "text/plain": [
       "['She', 'he', 'she', 'workhe', 'he']"
      ]
     },
     "execution_count": 170,
     "metadata": {},
     "output_type": "execute_result"
    }
   ],
   "source": [
    "re.findall(r'[a-zA-Z]*he','He and She he and she workhe well 123he')"
   ]
  },
  {
   "cell_type": "code",
   "execution_count": 189,
   "metadata": {},
   "outputs": [
    {
     "data": {
      "text/plain": [
       "['sH']"
      ]
     },
     "execution_count": 189,
     "metadata": {},
     "output_type": "execute_result"
    }
   ],
   "source": [
    "re.findall(r'[a-z]+[A-Z]+','He and sHe He and she workhe well 123 456')"
   ]
  },
  {
   "cell_type": "code",
   "execution_count": 192,
   "metadata": {},
   "outputs": [
    {
     "data": {
      "text/plain": [
       "['He', 'sHe', 'He', 'she', 'workhe', 'we']"
      ]
     },
     "execution_count": 192,
     "metadata": {},
     "output_type": "execute_result"
    }
   ],
   "source": [
    "re.findall(r'[a-zA-Z]+e','He and sHe He and she workhe well 123 456e e')"
   ]
  },
  {
   "cell_type": "code",
   "execution_count": 200,
   "metadata": {},
   "outputs": [
    {
     "data": {
      "text/plain": [
       "['He', 'sHe', 'He', 'she', 'workhe', 'we', '456e', 'e', 'crazye']"
      ]
     },
     "execution_count": 200,
     "metadata": {},
     "output_type": "execute_result"
    }
   ],
   "source": [
    "re.findall(r'[0-9]*[a-zA-Z]*e','He and sHe He and she workhe well 123 456e e crazye')"
   ]
  },
  {
   "cell_type": "code",
   "execution_count": 214,
   "metadata": {},
   "outputs": [
    {
     "data": {
      "text/plain": [
       "['Batwoman', 'batwoman']"
      ]
     },
     "execution_count": 214,
     "metadata": {},
     "output_type": "execute_result"
    }
   ],
   "source": [
    "re.findall(r'[Bb]atwoman','The adventures of batman Batwoman Batwooman Batwowoman Batewowowoman Batman batwoman')"
   ]
  },
  {
   "cell_type": "code",
   "execution_count": 240,
   "metadata": {},
   "outputs": [
    {
     "data": {
      "text/plain": [
       "['batman', 'Batwoman', 'Batwooman', 'Batwowoman', 'Batwowowoman', 'Batman']"
      ]
     },
     "execution_count": 240,
     "metadata": {},
     "output_type": "execute_result"
    }
   ],
   "source": [
    "re.findall(r'[bB]at[wo]*man','The adventures of batman Batwoman Batwooman Batwowoman Batwowowoman Batman')"
   ]
  },
  {
   "cell_type": "code",
   "execution_count": 245,
   "metadata": {},
   "outputs": [
    {
     "data": {
      "text/plain": [
       "['Batwooman', 'batwoman']"
      ]
     },
     "execution_count": 245,
     "metadata": {},
     "output_type": "execute_result"
    }
   ],
   "source": [
    "re.findall(r'[bB]at[wo]*man','Batwooman should not be there with batwoman')"
   ]
  },
  {
   "cell_type": "code",
   "execution_count": 267,
   "metadata": {},
   "outputs": [
    {
     "data": {
      "text/plain": [
       "['batman']"
      ]
     },
     "execution_count": 267,
     "metadata": {},
     "output_type": "execute_result"
    }
   ],
   "source": [
    "re.findall(r'bat[wo]?man','Batwooman should not be there with batwoman, batman')"
   ]
  },
  {
   "cell_type": "code",
   "execution_count": null,
   "metadata": {},
   "outputs": [],
   "source": []
  }
 ],
 "metadata": {
  "kernelspec": {
   "display_name": "Python 3",
   "language": "python",
   "name": "python3"
  },
  "language_info": {
   "codemirror_mode": {
    "name": "ipython",
    "version": 3
   },
   "file_extension": ".py",
   "mimetype": "text/x-python",
   "name": "python",
   "nbconvert_exporter": "python",
   "pygments_lexer": "ipython3",
   "version": "3.7.3"
  }
 },
 "nbformat": 4,
 "nbformat_minor": 2
}
